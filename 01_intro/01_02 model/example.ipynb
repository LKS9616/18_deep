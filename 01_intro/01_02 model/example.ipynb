{
 "cells": [
  {
   "cell_type": "code",
   "execution_count": 1,
   "metadata": {},
   "outputs": [
    {
     "ename": "SyntaxError",
     "evalue": "invalid syntax (1789979535.py, line 1)",
     "output_type": "error",
     "traceback": [
      "\u001b[1;36m  Cell \u001b[1;32mIn[1], line 1\u001b[1;36m\u001b[0m\n\u001b[1;33m    pip install jupyter\u001b[0m\n\u001b[1;37m        ^\u001b[0m\n\u001b[1;31mSyntaxError\u001b[0m\u001b[1;31m:\u001b[0m invalid syntax\n"
     ]
    }
   ],
   "source": [
    "pip install jupyter\n",
    "pip install pillow\n",
    "pip install tensorflow==2.12.1"
   ]
  },
  {
   "cell_type": "code",
   "execution_count": 1,
   "metadata": {},
   "outputs": [
    {
     "name": "stdout",
     "output_type": "stream",
     "text": [
      "2.12.0\n",
      "2.12.1\n"
     ]
    }
   ],
   "source": [
    "import tensorflow\n",
    "import keras\n",
    "\n",
    "print(keras.__version__)\n",
    "print(tensorflow.__version__)"
   ]
  },
  {
   "cell_type": "code",
   "execution_count": 9,
   "metadata": {},
   "outputs": [
    {
     "name": "stdout",
     "output_type": "stream",
     "text": [
      "WARNING:tensorflow:No training configuration found in the save file, so the model was *not* compiled. Compile it manually.\n",
      "['0 벵갈\\n', '1 봄베이\\n']\n",
      "1/1 [==============================] - 1s 741ms/step\n",
      "Class : 벵갈\n",
      "\n",
      "confidence Score : 0.9998164772987366\n"
     ]
    }
   ],
   "source": [
    "from tensorflow import keras # 모델을 사용하기 위해\n",
    "from PIL import Image, ImageOps # 이미지 처리 관련(열고, 조작하고 저장)\n",
    "import numpy as np # 케리스 모델에서 컬러 이미지를 배열로 처리하기 위해 \n",
    "\n",
    "# 모델을 불러오기\n",
    "model = keras.models.load_model(\"model/keras_model.h5\")\n",
    "\n",
    "# 라벨 불러오기\n",
    "class_name = open(\"model/labels.txt\", 'r').readlines()\n",
    "\n",
    "print(class_name)\n",
    "\n",
    "# 케라스 모델에서 입력받을 수 있는 형식\n",
    "# 컬러 이미지 로드 시 보통 (높이, 넓이, RGB 채널수) 형태\n",
    "# (배치 크기, 높이, 넓이, 채널 수)\n",
    "data = np.ndarray(shape=(1, 224, 224, 3)) # 딥러닝 모델에 입력\n",
    "\n",
    "# 이미지 경로 지정\n",
    "image = Image.open(\"images/64.jpeg\").convert(\"RGB\")\n",
    "\n",
    "# 로드할 이미지 크기 설덩\n",
    "size = (224, 224)\n",
    "image = ImageOps.fit(image, size, Image.Resampling.LANCZOS)\n",
    "\n",
    "# 이미지를 numpy 배열로 변환\n",
    "image_array = np.asarray(image)\n",
    "\n",
    "# 모델에 맞춰 정규화\n",
    "nomalized_image_array = (image_array.astype(np.float32) / 127.5) -1\n",
    "\n",
    "# 이미지를 배열에 로드\n",
    "data[0] = nomalized_image_array\n",
    "\n",
    "# 추론\n",
    "result = model.predict(data)\n",
    "\n",
    "index = np.argmax(result)\n",
    "\n",
    "result_class = class_name[index]\n",
    "confidence_score = result[0][index]\n",
    "\n",
    "print(f\"Class : {result_class[2:]}\")\n",
    "print(f\"confidence Score : {confidence_score}\")\n"
   ]
  }
 ],
 "metadata": {
  "kernelspec": {
   "display_name": "tf",
   "language": "python",
   "name": "python3"
  },
  "language_info": {
   "codemirror_mode": {
    "name": "ipython",
    "version": 3
   },
   "file_extension": ".py",
   "mimetype": "text/x-python",
   "name": "python",
   "nbconvert_exporter": "python",
   "pygments_lexer": "ipython3",
   "version": "3.11.10"
  }
 },
 "nbformat": 4,
 "nbformat_minor": 2
}
