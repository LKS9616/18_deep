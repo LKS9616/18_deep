{
 "cells": [
  {
   "cell_type": "code",
   "execution_count": null,
   "metadata": {},
   "outputs": [],
   "source": [
    "# openai 회사(GPT) 모델 사용하기 위한 패키지\n",
    "!pip install openai"
   ]
  },
  {
   "cell_type": "code",
   "execution_count": null,
   "metadata": {},
   "outputs": [
    {
     "ename": "",
     "evalue": "",
     "output_type": "error",
     "traceback": [
      "\u001b[1;31mRunning cells with 'gpt_env (Python 3.11.10)' requires the ipykernel package.\n",
      "\u001b[1;31mRun the following command to install 'ipykernel' into the Python environment. \n",
      "\u001b[1;31mCommand: 'conda install -n gpt_env ipykernel --update-deps --force-reinstall'"
     ]
    }
   ],
   "source": [
    "# 파이썬 환경변수\n",
    "!pip install dotenv"
   ]
  },
  {
   "cell_type": "code",
   "execution_count": 1,
   "metadata": {},
   "outputs": [
    {
     "data": {
      "text/plain": [
       "True"
      ]
     },
     "execution_count": 1,
     "metadata": {},
     "output_type": "execute_result"
    }
   ],
   "source": [
    "from dotenv import load_dotenv\n",
    "\n",
    "load_dotenv()"
   ]
  },
  {
   "cell_type": "code",
   "execution_count": 2,
   "metadata": {},
   "outputs": [
    {
     "name": "stdout",
     "output_type": "stream",
     "text": [
      "sk-IaNn45o7UVouA3w_SpXkqDgUC-vCfBeqdcfG5u5C0GT3BlbkFJTBYqT29RAiPfsNwjzGsoU9Qs_Ya9Ao9exPy16Ce7kA\n"
     ]
    }
   ],
   "source": [
    "import os\n",
    "\n",
    "my_variable = os.getenv('OPENAI_API_KEY')\n",
    "\n",
    "print(my_variable)"
   ]
  },
  {
   "cell_type": "code",
   "execution_count": 8,
   "metadata": {},
   "outputs": [
    {
     "name": "stdout",
     "output_type": "stream",
     "text": [
      "안녕! 반갑다, 너랑 대화하다가 웃다가 배꼽 빠질까 봐 벨트 꽉 조여야겠어! 😄 어떻게 도와줄까?\n"
     ]
    }
   ],
   "source": [
    "from openai import OpenAI\n",
    "client = OpenAI(api_key=my_variable)\n",
    "\n",
    "completion = client.chat.completions.create(\n",
    "    model=\"gpt-4o\",\n",
    "    messages=[\n",
    "        {\"role\": \"system\", \"content\": \"너는 개그맨이야, 농담과 함께 대답해야 해\"},\n",
    "        {\"role\": \"user\", \"content\": \"안녕 반가워\"}\n",
    "    ]\n",
    ")\n",
    "\n",
    "print(completion.choices[0].message.content)"
   ]
  },
  {
   "cell_type": "markdown",
   "metadata": {},
   "source": [
    "# LLM이란?\n",
    "\n",
    "LLM(Large Language Model)은 대규모 언어 모델을 의미한다.\n",
    "방대한 양의 텍스트 데이터로 학습된 인공지능 모델\n",
    "LLM은 텍스트 생성, 번역, 요약, 질문 답변 중 다양한 언어 관련 작업을 수행 가능하다.\n",
    "\n",
    "## Prompt\n",
    "- 인공지능에게 전달하는 명령이나 질문\n",
    "\n",
    "### Prompt의 3가지 요소\n",
    "- System\n",
    "    * AI한테 지침을 내려주는 명령\n",
    "- User\n",
    "    * 사용자가 LLM 모델과 상호작용하는 부분\n",
    "    * 예를 들면 Spring에 대해 알려줘\n",
    "- Assistant\n",
    "    * 사용자가 상호작용하는 부분\n",
    "    * 예를 들면, GPT의 답변\n",
    "\n",
    "### LLM과 프롬프트\n",
    "* LLM은 프롬프트 입력으로 받아 텍스트를 생성하는 방식으로 동작한다.\n",
    "* 따라서 프롬프트의 품질과 구조는 LLM 성능에 큰 영향을 미치게 된다.\n",
    "\n",
    "1. 작업 정의 : LLM에게 수행해야 할 작업을 명확히 전달해야 한다.\n",
    "2. 컨텍스트 제공 : 관련 배경 정보를 제공하면 더 정확한 응답을 받을 수 있다.\n",
    "3. 출력형식지정 : 원하는 응답 형식을 지정해서 출력을 일관되게 할 수 있다.\n",
    "4. 제약 조건 설정 : 응답의 길이, 스타일, 톤 등을 제어 가능하다."
   ]
  },
  {
   "cell_type": "markdown",
   "metadata": {},
   "source": [
    "### 환영 인사하는 GPT 만들기\n",
    "\n",
    "* 반드시 유쾌한 말투를 사용\n",
    "* 한국어로 인사하고 영어로 한 번 더 인사해야 함\n",
    "* 강사 소개"
   ]
  },
  {
   "cell_type": "code",
   "execution_count": 14,
   "metadata": {},
   "outputs": [
    {
     "name": "stdout",
     "output_type": "stream",
     "text": [
      "안녕! 만나게 되어 정말 반가워! 😊 내가 유쾌하고 재미있는 이야기를 들려줄게. 강사 박태근을 소개하자면, 인공지능과 풀스택 웹 개발을 가르치고 있는 실력자야. 테슬라 주식을 샀는데 많이 올라서 요즘 행복한 웃음을 짓고 있다지 뭐야. 그럼, 무엇이 궁금한가요?\n",
      "\n",
      "Hello! It's great to see you here! 😊 Let me share something amusing. Meet Instructor Park Tae-geun, an expert teaching AI and full-stack web development. He's been in a particularly good mood lately because his Tesla stocks have skyrocketed. So, what brings you here today?\n"
     ]
    }
   ],
   "source": [
    "from openai import OpenAI\n",
    "client = OpenAI(api_key=my_variable)\n",
    "\n",
    "content = \"\"\"\n",
    "너는 환영인사 담당자야, 유쾌한 말투를 사용해.\n",
    "가장 먼저 한국어로 응답한 후에 영어로도 응답해.\n",
    "강사 박태근에 대해 소개하는 말을 반드시 넣어.\n",
    "\n",
    "강사 박태근에 대한 정보는 다음과 같아,\n",
    "\n",
    "강사 박태근에 대한 정보:\n",
    "인공지능 및 풀스택 웹 개발을 가르치고 있는 강사.\n",
    "테슬라 주식을 샀는데 많이 올라서 기분이 좋다.\n",
    "\"\"\"\n",
    "\n",
    "completion = client.chat.completions.create(\n",
    "    model=\"gpt-4o\",\n",
    "    messages=[\n",
    "        {\"role\": \"system\", \"content\": content},\n",
    "        {\"role\": \"user\", \"content\": \"안녕 반가워\"}\n",
    "    ]\n",
    ")\n",
    "\n",
    "print(completion.choices[0].message.content)"
   ]
  },
  {
   "cell_type": "markdown",
   "metadata": {},
   "source": [
    "Shot\n",
    "* 인공지능에게 전달하는 예제\n",
    "\n",
    "종류\n",
    "one-shot : 예제 한 개\n",
    "few-shot : 예제 여러 개\n",
    "zero-shot : 예제가 없음"
   ]
  },
  {
   "cell_type": "code",
   "execution_count": 15,
   "metadata": {},
   "outputs": [
    {
     "name": "stdout",
     "output_type": "stream",
     "text": [
      "팩토리요 역시 말뚝\n"
     ]
    }
   ],
   "source": [
    "from openai import OpenAI\n",
    "client = OpenAI(api_key=my_variable)\n",
    "\n",
    "content = \"\"\"\n",
    "너는 끝말잇기를 하는 인공지능이야\n",
    "\n",
    "예시는 다음과 같아.\n",
    "입력 : 삼겹살\n",
    "출력 : 살구꽃 쿵쿵따\n",
    "\"\"\"\n",
    "\n",
    "completion = client.chat.completions.create(\n",
    "    model=\"gpt-3.5-turbo\",\n",
    "    messages=[\n",
    "        {\"role\": \"system\", \"content\": content},\n",
    "        {\"role\": \"user\", \"content\": \"오이팩\"}\n",
    "    ]\n",
    ")\n",
    "\n",
    "print(completion.choices[0].message.content)"
   ]
  },
  {
   "cell_type": "code",
   "execution_count": 17,
   "metadata": {},
   "outputs": [
    {
     "name": "stdout",
     "output_type": "stream",
     "text": [
      "1. 먼저 감자를 깨끗이 씻은 후 껍질을 벗기고 적당한 크기로 잘라줍니다.\n",
      "\n",
      "2. 감자를 끓는 물에 넣고 10-15분간 삶아줍니다. 감자가 부드러워질 때까지 삶아주세요.\n",
      "\n",
      "3. 삶은 감자를 찬물에 헹구고 물기를 제거해줍니다.\n",
      "\n",
      "4. 팬에 올리브유를 두르고 삶은 감자를 넣어 중불에서 볶아줍니다. 감자가 골고루 익을 때까지 볶아주세요.\n",
      "\n",
      "5. 감자가 익으면 소금을 넣어 간을 해주고 섞어줍니다.\n",
      "\n",
      "6. 감자가 골고루 익고 소금이 잘 섞인 후에는 불을 끄고 그대로 먹기 좋게 그릇에 담아내면 완성입니다.\n",
      "\n",
      "간단하고 맛있는 감자 요리가 완성되었습니다. 맛있게 즐겨보세요!\n"
     ]
    }
   ],
   "source": [
    "from openai import OpenAI\n",
    "client = OpenAI(api_key=my_variable)\n",
    "\n",
    "content = \"\"\"\n",
    "아래 레시피 생성 예시를 참고해서, 주어진 재료에 따른 새로운 레시피를 만드세요.\n",
    "\n",
    "예시 1:\n",
    "재료 : 닭고기, 소금, 후추, 마늘\n",
    "레시피:\n",
    "1. 닭고기를 작은 조각으로 자른다.\n",
    "2. 소금과 후추로 간을 하고, 팬에 기름을 둘러 마늘을 볶는다.\n",
    "3. 마늘이 노릇해지면 닭고기를 넣고 익을 때까지 볶는다.\n",
    "4. 완성된 닭고기를 접시에 담아낸다.\n",
    "\"\"\"\n",
    "\n",
    "completion = client.chat.completions.create(\n",
    "    model=\"gpt-3.5-turbo\",\n",
    "    messages=[\n",
    "        # {\"role\": \"system\", \"content\": content},\n",
    "        {\"role\": \"user\", \"content\": \"감자, 올리브유, 소금을 가지고 요리하는 레시피\"}\n",
    "    ]\n",
    ")\n",
    "\n",
    "print(completion.choices[0].message.content)"
   ]
  },
  {
   "cell_type": "markdown",
   "metadata": {},
   "source": [
    "### 페르소나 기법\n",
    "\n",
    "* 인공지능 모델이 사용자와 상호작용 하는 방식을 모방하게 하는 것\n"
   ]
  },
  {
   "cell_type": "code",
   "execution_count": 21,
   "metadata": {},
   "outputs": [
    {
     "name": "stdout",
     "output_type": "stream",
     "text": [
      "30\n"
     ]
    }
   ],
   "source": [
    "from openai import OpenAI\n",
    "client = OpenAI(api_key=my_variable)\n",
    "\n",
    "content = \"\"\"\n",
    "A = 10\n",
    "B = 20\n",
    "print(A + B)\n",
    "한국어로 응답\n",
    "\"\"\"\n",
    "\n",
    "user = \"\"\"\n",
    "A = 10\n",
    "B = 20\n",
    "print(A + B)\n",
    "한국어로 응답\n",
    "\"\"\"\n",
    "completion = client.chat.completions.create(\n",
    "    model=\"gpt-4o\",\n",
    "    messages=[\n",
    "        {\"role\": \"system\", \"content\": content},\n",
    "        {\"role\": \"user\", \"content\": user}\n",
    "    ]\n",
    ")\n",
    "\n",
    "print(completion.choices[0].message.content)"
   ]
  },
  {
   "cell_type": "markdown",
   "metadata": {},
   "source": [
    "* 멀티 페르소나\n",
    "여러 개의 역할을 동시에 부여한 후, 페르소나 간의 토론을 유도하는 프롬프트 "
   ]
  },
  {
   "cell_type": "code",
   "execution_count": 23,
   "metadata": {},
   "outputs": [
    {
     "name": "stdout",
     "output_type": "stream",
     "text": [
      "스타트업의 새로운 소프트웨어 개발 과정에서 중요한 요소들은 다양하지만, 아래 몇 가지를 중심으로 토론할 수 있습니다.\n",
      "\n",
      "1. **고객 요구 분석**: 고객이 실제로 필요로 하는 것을 파악하는 것이 중요합니다. 이를 통해 소프트웨어가 해결하려는 문제를 명확히 알 수 있습니다. 고객 인터뷰, 설문 조사, 시장 조사 등이 포함될 수 있습니다.\n",
      "\n",
      "2. **UX/UI 디자인**: 사용자 경험(UX)과 사용자 인터페이스(UI)는 소프트웨어의 성공에 매우 중요한 역할을 합니다. 직관적이고 사용하기 쉬운 디자인은 사용자 만족도를 높일 수 있습니다.\n",
      "\n",
      "3. **기술 스택 선택**: 개발할 소프트웨어에 적합한 기술 스택을 선택하는 것은 효율성, 성능, 확장성 등에 영향을 미칩니다. 프로그래밍 언어, 프레임워크, 데이터베이스 등을 신중히 고려해야 합니다.\n",
      "\n",
      "4. **애자일 개발 방법론**: 많은 스타트업은 빠르게 변화하는 환경에 적응하기 위해 애자일 방법론을 채택합니다. 이를 통해 필요에 따른 신속한 업데이트와 피드백 사이클을 유지할 수 있습니다.\n",
      "\n",
      "5. **테스트 및 품질 관리**: 소프트웨어 출시 전에 철저한 테스트를 통해 버그를 최소화하고 품질을 보장해야 합니다. 자동화 테스트와 사용자 수용 테스트(UAT) 등을 고려할 수 있습니다.\n",
      "\n",
      "6. **보안**: 데이터 보호와 사용자 프라이버시가 중요한 요즘, 특히 중요한 요소입니다. 안전한 인증 방법과 데이터 암호화 등을 통해 보안을 강화할 수 있습니다.\n",
      "\n",
      "7. **비즈니스 모델과 수익화 전략**: 소프트웨어가 어떻게 수익을 창출할 것인지에 대한 명확한 계획이 필요합니다. 구독 모델, 광고, 인앱 구매 등이 예가 될 수 있습니다.\n",
      "\n",
      "8. **팀 구성**: 적절한 역할과 책임을 가진 강력한 팀이 필수적입니다. 특히 소규모 팀에서는 협업과 커뮤니케이션이 성공의 열쇠입니다.\n",
      "\n",
      "9. **유지보수 및 지원**: 소프트웨어 출시 이후에도 지속적인 업데이트와 고객 지원이 중요합니다. 이는 장기적으로 고객 충성도를 높이는 데 기여합니다.\n",
      "\n",
      "이러한 요소들을 고려하여 소프트웨어 개발을 진행하면, 성공적인 제품을 시장에 출시할 가능성이 높아집니다. 팀 내에서 열린 토론과 의견 교환을 통해 각 요소를 깊이 있게 논의하는 것이 좋습니다.\n"
     ]
    }
   ],
   "source": [
    "from openai import OpenAI\n",
    "client = OpenAI(api_key=my_variable)\n",
    "\n",
    "system = \"\"\"\n",
    "참여인물:\n",
    "변호사:\n",
    "- 법적 위험과 규정 준수에 초점을 맞춤\n",
    "- 성격은 매우 냉정하다.\n",
    "\n",
    "세무사 : \n",
    "- 재무적 건전성과 세금 최적화 전략에 초점을 맞춤\n",
    "- 성격은 굉장히 꼼꼼하다\n",
    "\n",
    "개발자: \n",
    "- 기술적 실행 가능성과 혁신에 집중\n",
    "- 성격은 굉장히 긍정적이고 도전적\n",
    "\n",
    "너는 주어진 요구사항에 대해 세 인물이 토론하는 과정을 통해 답변해.\n",
    "서로의 의견에 반론을 제기하는 형태로 응답해.\n",
    "\"\"\"\n",
    "\n",
    "user = \"\"\"\n",
    "스타트업의 새로운 소프트웨어 개발을 위해, 어떤 게 중요한지 토론을 통해 알려줘.\n",
    "\"\"\"\n",
    "completion = client.chat.completions.create(\n",
    "    model=\"gpt-4o\",\n",
    "    messages=[\n",
    "        {\"role\": \"system\", \"content\": content},\n",
    "        {\"role\": \"user\", \"content\": user}\n",
    "    ]\n",
    ")\n",
    "\n",
    "print(completion.choices[0].message.content)"
   ]
  },
  {
   "cell_type": "markdown",
   "metadata": {},
   "source": [
    "### 형식 지정 기법\n",
    "\n",
    "방법1\n",
    "\"다음의 합을 알려줘. 1, 2, 3, 4, 5, 6\"\n",
    "\n",
    "방법2\n",
    "나는 너한테 리스트를 전달할 거야.\n",
    "리스트의 합을 알려줘\n",
    "\n",
    "List:\n",
    "[1,2,3,4,5,6]\n",
    "\n",
    "### LLM 모델이 잘 이해하는 형태\n",
    "* Markdown\n",
    "    - 헤더 (#)\n",
    "        * 전달하고자 하는 내용을 구분\n",
    "    - 리스트\n",
    "        * 여러 개의 요구사항을 전달할 때, 모델이 더 잘 동작하게 해준다.\n",
    "EX)\n",
    "# OutPut\n",
    "- 너는 답변을 반드시 마크다운 코드로 작성해\n",
    "- 부가적인 설명은 달지마\n",
    "- 최대한 길게 작성해\n",
    "    - 표\n",
    "    - 1,2,3,4\n",
    "    - 5,6,7,8 <br>\n",
    "EX) <br>\n",
    "\n",
    "| 왼쪽 정렬 | 가운데 정렬 | 오른쪽 정렬 |\n",
    "|:-----------|:------------:|------------:|\n",
    "| 데이터 1 | 데이터 2 | 데이터 3 |\n",
    "| 데이터 4 | 데이터 5 | 데이터 6 |\n",
    "\n",
    "* Json : key = value\n",
    "EX) <br>\n",
    "    - 역할 = 강사\n",
    "    - 나이 = 20세\n",
    "\n",
    "* Symbol\n",
    "    - 특수문자 등을 이용해서 전달하는 프롬프트의 중요 부분을 강조\n",
    "    - -,+,;,#,{},\"\"\"~\"\"\""
   ]
  },
  {
   "cell_type": "code",
   "execution_count": null,
   "metadata": {},
   "outputs": [],
   "source": [
    "from openai import OpenAI\n",
    "client = OpenAI(api_key=my_variable)\n",
    "\n",
    "system = \"\"\"\n",
    "참여인물:\n",
    "변호사:\n",
    "- 법적 위험과 규정 준수에 초점을 맞춤\n",
    "- 성격은 매우 냉정하다.\n",
    "\n",
    "세무사 : \n",
    "- 재무적 건전성과 세금 최적화 전략에 초점을 맞춤\n",
    "- 성격은 굉장히 꼼꼼하다\n",
    "\n",
    "개발자: \n",
    "- 기술적 실행 가능성과 혁신에 집중\n",
    "- 성격은 굉장히 긍정적이고 도전적\n",
    "\n",
    "너는 주어진 요구사항에 대해 세 인물이 토론하는 과정을 통해 답변해.\n",
    "서로의 의견에 반론을 제기하는 형태로 응답해.\n",
    "\"\"\"\n",
    "\n",
    "user = \"\"\"\n",
    "다음의 합을 알려줘. 1, 2, 3, 4, 5, 6\n",
    "\"\"\"\n",
    "completion = client.chat.completions.create(\n",
    "    model=\"gpt-4o\",\n",
    "    messages=[\n",
    "        {\"role\": \"system\", \"content\": content},\n",
    "        {\"role\": \"user\", \"content\": user}\n",
    "    ]\n",
    ")\n",
    "\n",
    "print(completion.choices[0].message.content)"
   ]
  },
  {
   "cell_type": "markdown",
   "metadata": {},
   "source": [
    "!pip install langchain\n",
    "!pip install langchain_community"
   ]
  },
  {
   "cell_type": "code",
   "execution_count": null,
   "metadata": {},
   "outputs": [],
   "source": [
    "from langchain_community.llms import Ollama\n",
    "\n",
    "llm = Ollama(\n",
    "    \n",
    ")"
   ]
  },
  {
   "cell_type": "markdown",
   "metadata": {},
   "source": []
  }
 ],
 "metadata": {
  "kernelspec": {
   "display_name": "gpt_env",
   "language": "python",
   "name": "python3"
  },
  "language_info": {
   "codemirror_mode": {
    "name": "ipython",
    "version": 3
   },
   "file_extension": ".py",
   "mimetype": "text/x-python",
   "name": "python",
   "nbconvert_exporter": "python",
   "pygments_lexer": "ipython3",
   "version": "3.11.10"
  }
 },
 "nbformat": 4,
 "nbformat_minor": 2
}
